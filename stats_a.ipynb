{
 "cells": [
  {
   "cell_type": "code",
   "execution_count": 17,
   "id": "f95d9a1c-7d9a-420e-9c06-611e63660bc1",
   "metadata": {},
   "outputs": [
    {
     "name": "stdout",
     "output_type": "stream",
     "text": [
      "             Goals per game  Goals conceded  Shots per game  Shots on target  \\\n",
      "Finland                 1.0             1.0            15.5              5.0   \n",
      "Switzerland             1.5             1.0            16.0              5.5   \n",
      "Norway                  2.0             1.0             8.5              3.0   \n",
      "Iceland                 0.0             1.5            12.5              3.0   \n",
      "\n",
      "             Expected Goals (xG)  Big chances  Possession (%)  \\\n",
      "Finland                    0.965          0.5            56.5   \n",
      "Switzerland                0.935          2.0            57.0   \n",
      "Norway                     1.310          3.5            43.5   \n",
      "Iceland                    1.035          1.0            43.0   \n",
      "\n",
      "             Pass accuracy (%)  \n",
      "Finland                   81.5  \n",
      "Switzerland               78.0  \n",
      "Norway                    73.5  \n",
      "Iceland                   69.5  \n"
     ]
    }
   ],
   "source": [
    "import pandas as pd\n",
    "\n",
    "# CSV 파일 불러오기\n",
    "df = pd.read_csv('round1_2.csv')\n",
    "\n",
    "# 필요한 컬럼 이름 정리 (공백 제거 등)\n",
    "df.columns = df.columns.str.strip()\n",
    "\n",
    "# 분석할 팀 목록\n",
    "teams = ['Finland', 'Switzerland', 'Norway', 'Iceland']\n",
    "\n",
    "# 결과 저장할 딕셔너리\n",
    "team_stats = {}\n",
    "\n",
    "for team in teams:\n",
    "    # 홈과 원정 경기 모두 필터링\n",
    "    home = df[df['HomeTeam'] == team]\n",
    "    away = df[df['AwayTeam'] == team]\n",
    "    \n",
    "    games_played = len(home) + len(away)\n",
    "    \n",
    "    # 통계 계산\n",
    "    goals = home['HomeGoals'].sum() + away['AwayGoals'].sum()\n",
    "    goals_conceded = home['AwayGoals'].sum() + away['HomeGoals'].sum()\n",
    "    shots = home['HomeShots'].sum() + away['AwayShots'].sum()\n",
    "    shots_on_target = home['HomeShotsOnTarget'].sum() + away['AwayShotsOnTarget'].sum()\n",
    "    xg = home['HomexG'].sum() + away['AwayxG'].sum()\n",
    "    big_chances = home['HomeBigChances'].sum() + away['AwayBigChances'].sum()\n",
    "    \n",
    "    possession = (home['HomePossession(%)'].sum() + away['AwayPossession(%)'].sum()) / games_played\n",
    "    pass_accuracy = (home['HomePasses(%)'].sum() + away['AwayPasses(%)'].sum()) / games_played\n",
    "    \n",
    "    team_stats[team] = {\n",
    "        'Goals per game': round(goals / games_played, 2),\n",
    "        'Goals conceded': round(goals_conceded / games_played, 2),\n",
    "        'Shots per game': round(shots / games_played, 2),\n",
    "        'Shots on target': round(shots_on_target / games_played, 2),\n",
    "        'Expected Goals (xG)': round(xg / games_played, 3),\n",
    "        'Big chances': round(big_chances / games_played, 2),\n",
    "        'Possession (%)': round(possession, 1),\n",
    "        'Pass accuracy (%)': round(pass_accuracy, 1)\n",
    "    }\n",
    "\n",
    "# 결과 출력\n",
    "stats_a= pd.DataFrame(team_stats).T\n",
    "print(stats_a)\n",
    "\n",
    "stats_a.to_csv(\"stats_a.csv\")\n"
   ]
  },
  {
   "cell_type": "code",
   "execution_count": null,
   "id": "aff3415f-acea-4e18-bac4-ecadff91318c",
   "metadata": {},
   "outputs": [],
   "source": []
  }
 ],
 "metadata": {
  "kernelspec": {
   "display_name": "Python [conda env:base] *",
   "language": "python",
   "name": "conda-base-py"
  },
  "language_info": {
   "codemirror_mode": {
    "name": "ipython",
    "version": 3
   },
   "file_extension": ".py",
   "mimetype": "text/x-python",
   "name": "python",
   "nbconvert_exporter": "python",
   "pygments_lexer": "ipython3",
   "version": "3.12.3"
  }
 },
 "nbformat": 4,
 "nbformat_minor": 5
}
